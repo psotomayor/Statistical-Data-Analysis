{
 "cells": [
  {
   "cell_type": "markdown",
   "id": "554ee833",
   "metadata": {},
   "source": [
    "# Uniform distribution"
   ]
  },
  {
   "cell_type": "markdown",
   "id": "e318f345",
   "metadata": {},
   "source": [
    "### Exercise\n",
    "\n",
    "Simulate $1000$ events uniformly distributed between $0$ and $25$. From the data, build a frequency histogram and a density histogram with $10$ bins of equal width. Compare both histograms the uniform probability density function. Compare the mean and standard deviation of the sample with the corresponding values of the uniform distribution."
   ]
  },
  {
   "cell_type": "markdown",
   "id": "5cc39ba6",
   "metadata": {},
   "source": [
    "### Solution"
   ]
  },
  {
   "cell_type": "code",
   "execution_count": 1,
   "id": "eb69696a",
   "metadata": {},
   "outputs": [],
   "source": [
    "# Getting libraries\n",
    "\n",
    "import math\n",
    "import numpy as np\n",
    "import matplotlib.pyplot as plt\n",
    "from scipy.stats import uniform\n",
    "import pandas as pd"
   ]
  },
  {
   "cell_type": "code",
   "execution_count": 2,
   "id": "7c439340",
   "metadata": {},
   "outputs": [],
   "source": [
    "events = 1000"
   ]
  },
  {
   "cell_type": "markdown",
   "id": "474b50dd",
   "metadata": {},
   "source": [
    "Random number generator"
   ]
  },
  {
   "cell_type": "code",
   "execution_count": 3,
   "id": "e56833f5",
   "metadata": {},
   "outputs": [],
   "source": [
    "rng = np.random.default_rng()"
   ]
  },
  {
   "cell_type": "markdown",
   "id": "0483d7e4",
   "metadata": {},
   "source": [
    "Array to save data"
   ]
  },
  {
   "cell_type": "code",
   "execution_count": 4,
   "id": "f396ca78",
   "metadata": {},
   "outputs": [],
   "source": [
    "data = 25*np.random.default_rng().random(events)"
   ]
  },
  {
   "cell_type": "markdown",
   "id": "09c449b2",
   "metadata": {},
   "source": [
    "Histogram bins"
   ]
  },
  {
   "cell_type": "code",
   "execution_count": 5,
   "id": "c1001e91",
   "metadata": {},
   "outputs": [],
   "source": [
    "xmin, xmax = 0, 25 # Endpoints of the interval"
   ]
  },
  {
   "cell_type": "code",
   "execution_count": 6,
   "id": "0e749741",
   "metadata": {},
   "outputs": [],
   "source": [
    "nbins = 10    # number of bins"
   ]
  },
  {
   "cell_type": "code",
   "execution_count": 7,
   "id": "6deacf18",
   "metadata": {},
   "outputs": [
    {
     "data": {
      "image/png": "[encoded data removed]",
      "text/plain": [
       "<Figure size 576x432 with 1 Axes>"
      ]
     },
     "metadata": {
      "needs_background": "light"
     },
     "output_type": "display_data"
    }
   ],
   "source": [
    "plt.figure(figsize=(8,6))\n",
    "plt.hist(x=data, bins=nbins, color='orange', edgecolor='black', linewidth=1.2, rwidth=0.85)\n",
    "plt.title('Frequency Histogram', fontsize=16)\n",
    "plt.xlabel('X', fontsize=16)\n",
    "plt.ylabel('Frequency', fontsize=16)\n",
    "plt.xticks(fontsize=16)\n",
    "plt.yticks(fontsize=16)\n",
    "plt.show()"
   ]
  },
  {
   "cell_type": "code",
   "execution_count": 8,
   "id": "14f35ecc",
   "metadata": {},
   "outputs": [
    {
     "data": {
      "image/png": "[encoded data removed]",
      "text/plain": [
       "<Figure size 576x432 with 1 Axes>"
      ]
     },
     "metadata": {
      "needs_background": "light"
     },
     "output_type": "display_data"
    }
   ],
   "source": [
    "plt.figure(figsize=(8,6))\n",
    "plt.hist(x=data, bins=nbins, color='orange', edgecolor='black', linewidth=1.2, rwidth=0.85,density=True)\n",
    "plt.title('Density Histogram', fontsize=16)\n",
    "plt.xlabel('X', fontsize=16)\n",
    "plt.ylabel('Frequency', fontsize=16)\n",
    "plt.xticks(fontsize=16)\n",
    "plt.yticks(fontsize=16)\n",
    "\n",
    "x = np.linspace(xmin, xmax,100)\n",
    "plt.plot(x, uniform(loc=0, scale=25).pdf(x), ls ='-', color='blue', lw=5, alpha=0.6, label='PDF $U(0,25)$')\n",
    "plt.legend(fontsize=16)\n",
    "\n",
    "plt.show()"
   ]
  },
  {
   "cell_type": "markdown",
   "id": "9cfe5fe5",
   "metadata": {},
   "source": [
    "We see above that there is a good agreement with a uniform distribution, as expected."
   ]
  },
  {
   "cell_type": "markdown",
   "id": "92a4b86b",
   "metadata": {},
   "source": [
    "Simulation Performance Analysis"
   ]
  },
  {
   "cell_type": "code",
   "execution_count": 9,
   "id": "d55357fe",
   "metadata": {},
   "outputs": [
    {
     "name": "stdout",
     "output_type": "stream",
     "text": [
      "Experimental mean: 12.70\n"
     ]
    }
   ],
   "source": [
    "print(f\"Experimental mean: {data.mean():0.2f}\")"
   ]
  },
  {
   "cell_type": "code",
   "execution_count": 10,
   "id": "7e53ff95",
   "metadata": {},
   "outputs": [
    {
     "name": "stdout",
     "output_type": "stream",
     "text": [
      "Theoretical mean: 12.50\n"
     ]
    }
   ],
   "source": [
    "print(f\"Theoretical mean: {uniform(loc=0, scale=25).mean():0.2f}\")"
   ]
  },
  {
   "cell_type": "code",
   "execution_count": 11,
   "id": "568f824f",
   "metadata": {},
   "outputs": [
    {
     "name": "stdout",
     "output_type": "stream",
     "text": [
      "Experimental standard deviation: 7.31\n"
     ]
    }
   ],
   "source": [
    "print(f\"Experimental standard deviation: {data.std():0.2f}\")"
   ]
  },
  {
   "cell_type": "code",
   "execution_count": 12,
   "id": "0fafc1cd",
   "metadata": {},
   "outputs": [
    {
     "name": "stdout",
     "output_type": "stream",
     "text": [
      "Theoretical standard deviation: 7.22\n"
     ]
    }
   ],
   "source": [
    "print(f\"Theoretical standard deviation: {uniform(loc=0, scale=25).std():0.2f}\")"
   ]
  }
 ],
 "metadata": {
  "kernelspec": {
   "display_name": "Python 3 (ipykernel)",
   "language": "python",
   "name": "python3"
  },
  "language_info": {
   "codemirror_mode": {
    "name": "ipython",
    "version": 3
   },
   "file_extension": ".py",
   "mimetype": "text/x-python",
   "name": "python",
   "nbconvert_exporter": "python",
   "pygments_lexer": "ipython3",
   "version": "3.8.13"
  }
 },
 "nbformat": 4,
 "nbformat_minor": 5
}
