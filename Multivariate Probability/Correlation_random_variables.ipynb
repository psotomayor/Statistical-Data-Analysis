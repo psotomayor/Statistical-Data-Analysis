{
 "cells": [
  {
   "cell_type": "markdown",
   "id": "3aaa336f",
   "metadata": {},
   "source": [
    "# "
   ]
  },
  {
   "cell_type": "markdown",
   "id": "7a941350",
   "metadata": {},
   "source": [
    "### Exercise\n",
    "\n",
    "Consider two independent variables $X_1$ and $X_2$ with variances $\\sigma_1^2$ and $\\sigma_2^2$. Calculate the covariance matrix of the new variables $Y_1 = X_1 + X_2$ and $Y_2 = X_1 − X_2$ in terms of $\\sigma_1$ and $\\sigma_2$. Calculate the correlation between $Y_1$ and $Y_2$ and decide if these two variables are independent or not.\n",
    "\n",
    "---"
   ]
  },
  {
   "cell_type": "markdown",
   "id": "0b8856cd",
   "metadata": {},
   "source": [
    "### Solution\n",
    "\n",
    "$$\n",
    "\\vec{X} = \\begin{bmatrix}\n",
    "X_1\\\\ \n",
    "X_2\n",
    "\\end{bmatrix},\\qquad \n",
    "\\vec{Y} = \\begin{bmatrix}\n",
    "Y_1\\\\ \n",
    "Y_2\n",
    "\\end{bmatrix}\n",
    "$$\n",
    "\n",
    "both 2D random variables. The vector $\\vec{Y}$ is a vectorial linear combination  of $\\vec{X}$ of the type:\n",
    "\n",
    "$$\\vec{Y} = \\mathbb{B} \\vec{X}\\qquad {\\rm where}\\; \\mathbb{B} \\in \\mathbb{R}^{2\\times 2}$$\n",
    "\n",
    "$$\n",
    "\\begin{bmatrix}\n",
    "Y_1\\\\ \n",
    "Y_2\n",
    "\\end{bmatrix} =\n",
    "\\begin{bmatrix}\n",
    "1 & 1\\\\ \n",
    "1 & -1\n",
    "\\end{bmatrix}\n",
    "\\begin{bmatrix}\n",
    "X_1\\\\ \n",
    "X_2\n",
    "\\end{bmatrix} = \n",
    "\\begin{bmatrix}\n",
    "X_1 + X_2\\\\ \n",
    "X_1 - X_2\n",
    "\\end{bmatrix}\n",
    "$$\n",
    "\n",
    "The covariance matrix of $\\vec{Y}$ is given by:\n",
    "\n",
    "$$\\mathbb{V}_\\vec{Y} = \\mathbb{B} \\mathbb{V}_\\vec{X} \\mathbb{B}^{\\rm T}$$\n",
    "\n",
    "where\n",
    "\n",
    "$$\n",
    "\\mathbb{V}_{\\vec{X}} =\n",
    "\\begin{bmatrix}\n",
    "\\sigma_{1}^2 & 0\\\\ \n",
    "0 & \\sigma_{2}^2\n",
    "\\end{bmatrix}\n",
    "$$\n",
    "\n",
    "Then\n",
    "\n",
    "$$\n",
    "\\mathbb{V}_{\\vec{Y}} =\n",
    "\\begin{bmatrix}\n",
    "1 & 1\\\\ \n",
    "1 & -1\n",
    "\\end{bmatrix}\n",
    "\\begin{bmatrix}\n",
    "\\sigma_{1}^2 & 0\\\\ \n",
    "0 & \\sigma_{2}^2\n",
    "\\end{bmatrix}\n",
    "\\begin{bmatrix}\n",
    "1 & 1\\\\ \n",
    "1 & -1\n",
    "\\end{bmatrix} = \n",
    "\\begin{bmatrix}\n",
    "\\sigma_{1}^2 & \\sigma_{2}^2\\\\ \n",
    "\\sigma_{1}^2 & -\\sigma_{2}^2\n",
    "\\end{bmatrix} \n",
    "\\begin{bmatrix}\n",
    "1 & 1\\\\ \n",
    "1 & -1\n",
    "\\end{bmatrix} =\n",
    "\\begin{bmatrix}\n",
    "\\sigma_{1}^2 + \\sigma_{2}^2 & \\sigma_{1}^2 - \\sigma_{2}^2\\\\ \n",
    "\\sigma_{1}^2 - \\sigma_{2}^2 & \\sigma_{1}^2 + \\sigma_{2}^2\n",
    "\\end{bmatrix}\n",
    "$$"
   ]
  },
  {
   "cell_type": "markdown",
   "id": "29cb5777",
   "metadata": {},
   "source": [
    "We see above that $Y_1$ and $Y_2$ are correlated random variables, that is, they are not independent variables. The correlation between $Y_1$ and $Y_2$ is:\n",
    "\n",
    "$$\\rho\\left(Y_1, Y_2 \\right) = \\frac{{\\rm Cov}\\left[Y_1, Y_2 \\right]}{\\sigma_{Y_1}\\sigma_{Y_2}} = \\frac{\\sigma_1^2 - \\sigma_2^2}{\\sigma_1^2 + \\sigma_2^2}$$"
   ]
  }
 ],
 "metadata": {
  "kernelspec": {
   "display_name": "Python 3 (ipykernel)",
   "language": "python",
   "name": "python3"
  },
  "language_info": {
   "codemirror_mode": {
    "name": "ipython",
    "version": 3
   },
   "file_extension": ".py",
   "mimetype": "text/x-python",
   "name": "python",
   "nbconvert_exporter": "python",
   "pygments_lexer": "ipython3",
   "version": "3.8.10"
  }
 },
 "nbformat": 4,
 "nbformat_minor": 5
}
