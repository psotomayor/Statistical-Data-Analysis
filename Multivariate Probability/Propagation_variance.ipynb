{
 "cells": [
  {
   "cell_type": "markdown",
   "id": "651e1c21",
   "metadata": {},
   "source": [
    "# Propagation of Variance"
   ]
  },
  {
   "cell_type": "markdown",
   "id": "1840117f",
   "metadata": {},
   "source": [
    "### Exercise\n",
    "\n",
    "The efficacy of a vaccine ($VE$) can be measured in a clinical test in based on the proportion of vaccinated infected patients with \n",
    "respect to the total number of infected patients ($p$),\n",
    "\n",
    "$$VE = \\frac{1 - 2p}{1 - p}$$\n",
    "\n",
    "In the Astra-Zeneca covid vaccine test, it was estimated that the mean of the random variable $p$ is $E(p) = 0.28$ and its standard deviation is $\\sigma(p) = 0.05$. Applying the spread of variance formula, calculate the mean and standard deviation of the efficiency $VE$.\n",
    "\n",
    "---"
   ]
  },
  {
   "cell_type": "markdown",
   "id": "9e230ffc",
   "metadata": {},
   "source": [
    "### Solution"
   ]
  },
  {
   "cell_type": "markdown",
   "id": "b6aa2eb0",
   "metadata": {},
   "source": [
    "$VE$ is a random variable that can be interpreted as a change of variable of the random variable $p$\n",
    "\n",
    "$$VE(p) = 1 - \\frac{p}{1-p}$$\n",
    "\n",
    "Considering a linear approximation of $VE(p)$ around $p = \\mu_{p}$\n",
    "\n",
    "$$VE(p) \\simeq VE(\\mu_p) + \\frac{{\\rm d}VE}{{\\rm d}p}{\\bigg |}_{p = \\mu_p}(p - \\mu_p)$$\n",
    "\n",
    "where\n",
    "\n",
    "$$\\frac{{\\rm d}VE}{{\\rm d}p} = - \\frac{1}{(1-p)^2}$$\n",
    "\n",
    "$$VE(\\mu_{p}) = \\frac{11}{18} \\qquad \\frac{{\\rm d}VE}{{\\rm d}p}{\\bigg |}_{p = \\mu_p} = -\\frac{625}{324}$$\n",
    "\n",
    "Then\n",
    "\n",
    "$$VE(p) \\simeq \\frac{11}{18} - \\frac{625}{324}\\left(p - \\frac{7}{25} \\right)$$\n",
    "\n",
    "- Mean of $VE$\n",
    "\n",
    "$$E[VE(p)] \\simeq E\\left[VE(\\mu_p)\\right] + E\\left[\\frac{{\\rm d}VE}{{\\rm d}p}{\\bigg |}_{p = \\mu_p}(p - \\mu_p) \\right]$$\n",
    "\n",
    "$$E[VE(p)] \\simeq E\\left[VE(\\mu_p)\\right] + \\frac{{\\rm d}VE}{{\\rm d}p}{\\bigg |}_{p = \\mu_p}E\\left[p - \\mu_p\\right]$$\n",
    "\n",
    "$$E[VE(p)] \\simeq VE(\\mu_p)$$\n",
    "\n",
    "$$\\mu_{VE} \\simeq \\frac{11}{18} \\simeq 0.6111$$\n",
    "\n",
    "- Standard deviation of $VE$\n",
    "\n",
    "$${\\rm Var}\\left[VE(p) \\right] = {\\rm Var}\\left[VE(\\mu_p) + \\frac{{\\rm d}VE}{{\\rm d}p}{\\bigg |}_{p = \\mu_p}(p - \\mu_p) \\right]$$\n",
    "\n",
    "where\n",
    "\n",
    "$${\\rm Var}\\left[VE(p) \\right] = {\\rm Var}\\left[\\frac{{\\rm d}VE}{{\\rm d}p}{\\bigg |}_{p = \\mu_p}(p - \\mu_p) \\right]$$\n",
    "\n",
    "$${\\rm Var}\\left[VE(p) \\right] = \\left(\\frac{{\\rm d}VE}{{\\rm d}p}{\\bigg |}_{p = \\mu_p} \\right)^2 {\\rm Var}\\left[p - \\mu_p \\right]$$\n",
    "\n",
    "$${\\rm Var}\\left[VE(p) \\right] = \\left(\\frac{{\\rm d}VE}{{\\rm d}p}{\\bigg |}_{p = \\mu_p} \\right)^2 {\\rm Var}\\left[p \\right]$$\n",
    "\n",
    "$${\\rm Var}\\left[VE(p) \\right] = \\left(-\\frac{625}{324} \\right)^2 \\left(0.05 \\right)^2$$\n",
    "\n",
    "$$\\sigma_{VE}^2 \\simeq 0.0093$$\n",
    "\n",
    "Then\n",
    "\n",
    "$$\\sigma_{VE} \\simeq 0.096$$\n",
    "\n",
    "We see that there is not a large departure at $1\\sigma$ from $\\mu_{VE}$, then the linear approximation is valid."
   ]
  }
 ],
 "metadata": {
  "kernelspec": {
   "display_name": "Python 3 (ipykernel)",
   "language": "python",
   "name": "python3"
  },
  "language_info": {
   "codemirror_mode": {
    "name": "ipython",
    "version": 3
   },
   "file_extension": ".py",
   "mimetype": "text/x-python",
   "name": "python",
   "nbconvert_exporter": "python",
   "pygments_lexer": "ipython3",
   "version": "3.8.10"
  }
 },
 "nbformat": 4,
 "nbformat_minor": 5
}
