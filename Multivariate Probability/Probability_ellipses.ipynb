{
 "cells": [
  {
   "cell_type": "markdown",
   "id": "bd223f8d",
   "metadata": {},
   "source": [
    "# Probability Ellipses"
   ]
  },
  {
   "cell_type": "markdown",
   "id": "7dd1b373",
   "metadata": {},
   "source": [
    "### Exercise\n",
    "\n",
    "Consider two independent variables $X_1$ and $X_2$ distributed with the binormal probability density function,\n",
    "\n",
    "$$f(x_1, x_2) = \\frac{1}{2\\pi \\sigma_1 \\sigma_2} \\exp{\\left(-\\frac{1}{2}q(x_1, x_2) \\right)}$$\n",
    "\n",
    "where \n",
    "\n",
    "$$q(x_1, x_2) = \\left(\\frac{x_1 - \\mu_1}{\\sigma_1} \\right)^2 + \\left(\\frac{x_2 - \\mu_2}{\\sigma_2} \\right)^2$$\n",
    "\n",
    "Transform to a variable $\\chi^2$ to calculate the probability that the 2D random variable $(X_1, X_2)$ falls into the $1\\sigma$, $2\\sigma$ and $3\\sigma$ regions defined by the ellipses $q = 1$, $q = 4$ and $q = 9$ respectively.\n",
    "\n",
    "---"
   ]
  },
  {
   "cell_type": "markdown",
   "id": "2362788b",
   "metadata": {},
   "source": [
    "### Solution"
   ]
  },
  {
   "cell_type": "markdown",
   "id": "ffc9e856",
   "metadata": {},
   "source": [
    "Let the 1D random variables be:\n",
    "\n",
    "$$X_1 \\sim N(\\mu_1, \\sigma_1)\\qquad X_2 \\sim N(\\mu_2, \\sigma_2)$$\n",
    "\n",
    "We define new random variables:\n",
    "\n",
    "$$Z_1 = \\frac{X_1 - \\mu_1}{\\sigma_1}\\qquad Z_1 \\sim N(0, 1)$$\n",
    "\n",
    "and\n",
    "\n",
    "$$Z_2 = \\frac{X_2 - \\mu_2}{\\sigma_2}\\qquad Z_2 \\sim N(0, 1)$$\n",
    "\n",
    "Then\n",
    "\n",
    "$$q = z_1^2 + z_2^2$$\n",
    "\n",
    "We make the change of variables: $Q_1 = Z_1^2$ and $Q_2 = Z_2^2$\n",
    "\n",
    "where\n",
    "\n",
    "$$Q_{1} \\sim \\chi_{1}^2 \\qquad Q_{2} \\sim \\chi_{1}^2$$\n",
    "\n",
    "both random variables that follow a $\\chi^2$ distribution of 1 degree of freedom. We see that:\n",
    "\n",
    "$$Q = Q_{1}^2 + Q_{2}^2, \\qquad Q \\sim \\chi_{2}^2$$\n",
    "\n",
    "From $Q \\sim \\chi_{2}^2$, its PDF is:\n",
    "\n",
    "$$f(q) = \\frac{1}{2}\\exp{\\left(-\\frac{1}{2}q \\right)}$$\n",
    "\n",
    "and its CDF is:\n",
    "\n",
    "$$F(q) \\equiv P(Q \\leq q) = 1 - \\exp{\\left(-\\frac{1}{2}q \\right)}$$\n",
    "\n",
    "Thus, the probability that an event is inside the ellipse $q=1$ is:\n",
    "\n",
    "$$F(q=1) = 0.39\\qquad {\\rm Ellipse\\,1\\sigma}$$\n",
    "\n",
    "The probability that an event is inside the ellipse $q=2$ is:\n",
    "\n",
    "$$F(q=2) = 0.86\\qquad {\\rm Ellipse\\,2\\sigma}$$\n",
    "\n",
    "And the probability that an event is inside the ellipse $q=3$ is:\n",
    "\n",
    "$$F(q=3) = 0.99\\qquad {\\rm Ellipse\\,3\\sigma}$$"
   ]
  }
 ],
 "metadata": {
  "kernelspec": {
   "display_name": "Python 3 (ipykernel)",
   "language": "python",
   "name": "python3"
  },
  "language_info": {
   "codemirror_mode": {
    "name": "ipython",
    "version": 3
   },
   "file_extension": ".py",
   "mimetype": "text/x-python",
   "name": "python",
   "nbconvert_exporter": "python",
   "pygments_lexer": "ipython3",
   "version": "3.8.10"
  }
 },
 "nbformat": 4,
 "nbformat_minor": 5
}
