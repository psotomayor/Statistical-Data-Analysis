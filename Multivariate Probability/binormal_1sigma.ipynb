{
 "cells": [
  {
   "cell_type": "markdown",
   "id": "a72e8514",
   "metadata": {},
   "source": [
    "# Binormal distributions"
   ]
  },
  {
   "cell_type": "markdown",
   "id": "150ab6d0",
   "metadata": {},
   "source": [
    "### Exercise\n",
    "\n",
    "Plot the $1\\sigma$ level surfaces of the binormal distributions with parameters $\\mu_{1} = 1.3$, $\\mu_{2} = 0.5$, $\\sigma_{1} = 1.7$, and $\\sigma_{ 2} = 2.3$ for three different correlations $\\rho = −0.9,\\, 0$ and $0.5$.\n",
    "\n",
    "---"
   ]
  },
  {
   "cell_type": "markdown",
   "id": "b277eafb",
   "metadata": {},
   "source": [
    "### Solution"
   ]
  },
  {
   "cell_type": "markdown",
   "id": "fa1b9f65",
   "metadata": {},
   "source": [
    "Let $X_{1} \\sim N(\\mu_1, \\sigma_1)$ and $X_{2} \\sim N(\\mu_2, \\sigma_2)$ both normal distributions. The joint probability density function is given by:\n",
    "\n",
    "$$f(x_1, x_2) = \\frac{1}{2\\pi \\sigma_1 \\sigma_2 \\sqrt{1 - \\rho^2}}\\exp{\\left(-\\frac{1}{2\\left(1 - \\rho^2 \\right)} \\left[\\left(\\frac{x_1 - \\mu_1}{\\sigma_1} \\right)^2 + \\left(\\frac{x_2 - \\mu_2}{\\sigma_2} \\right)^2 - \\frac{2\\rho \\left(x_1 - \\mu_1 \\right)\\left(x_2 - \\mu_2 \\right)}{\\sigma_1 \\sigma_2} \\right]\\right)}$$\n",
    "\n",
    "where $\\rho$ is the correlation between the random variables $X_1$ and $X_2$.\n",
    "\n",
    "Using matrix notation:\n",
    "\n",
    "$$\n",
    "\\vec{x} = \\begin{bmatrix}\n",
    "x_1\\\\ \n",
    "x_2\n",
    "\\end{bmatrix},\\qquad \n",
    "\\vec{\\mu} = \\begin{bmatrix}\n",
    "\\mu_1\\\\ \n",
    "\\mu_2\n",
    "\\end{bmatrix}\n",
    "$$\n",
    "\n",
    "$$\n",
    "\\mathbb{A} = \\frac{1}{1-\\rho^2} \\begin{bmatrix}\n",
    "{\\large \\frac{1}{\\sigma_1^2}} & {\\large -\\frac{\\rho}{\\sigma_1 \\sigma_2}}\\\\ \n",
    "{\\large -\\frac{\\rho}{\\sigma_1 \\sigma_2}} & {\\large \\frac{1}{\\sigma_2^2}}\n",
    "\\end{bmatrix}\n",
    "$$\n",
    "\n",
    "where $\\mathbb{A}$ is the Hessian matrix, its determinant is:\n",
    "\n",
    "$$ ||\\mathbb{A}|| = \\frac{1}{\\sigma_1^2 \\sigma_2^2 \\left(1 - \\rho^2 \\right)}$$\n",
    "\n",
    "Therefore, the joint PDF of $X_1$ and $X_2$ is:\n",
    "\n",
    "$$f(\\vec{x}) = \\frac{|| \\mathbb{A} ||^{1/2}}{2\\pi} \\exp{\\left[-\\frac{1}{2} \\left(\\vec{x} - \\vec{\\mu} \\right)^{\\rm T} \\mathbb{A} \\left(\\vec{x} - \\vec{\\mu} \\right) \\right]} $$.\n",
    "\n",
    "The Hessian matrix is symmetric, its inverse is the covariance matrix:\n",
    "\n",
    "$$\\mathbb{V} = \\mathbb{A}^{-1} =\n",
    "\\begin{bmatrix}\n",
    "\\sigma_1^2 & \\sigma_1 \\sigma_2 \\rho\\\\ \n",
    "\\sigma_1 \\sigma_2 \\rho & \\sigma_2^2\n",
    "\\end{bmatrix} =\n",
    "\\begin{bmatrix}\n",
    "{\\rm Cov}\\left(x_1,x_1\\right) & {\\rm Cov}\\left(x_1,x_2\\right)\\\\ \n",
    "{\\rm Cov}\\left(x_2,x_1\\right) & {\\rm Cov}\\left(x_2,x_2\\right)\n",
    "\\end{bmatrix}\n",
    "$$\n",
    "\n",
    "Then, the joint PDF of $X_1$ and $X_2$ can also be expressed as:\n",
    "\n",
    "$$f(\\vec{x}) = \\frac{1}{2\\pi ||\\mathbb{V}||^{1/2}} \\exp{\\left[-\\frac{1}{2} \\left(\\vec{x} - \\vec{\\mu} \\right)^{\\rm T} \\mathbb{V}^{-1} \\left(\\vec{x} - \\vec{\\mu} \\right) \\right]} $$."
   ]
  },
  {
   "cell_type": "code",
   "execution_count": 1,
   "id": "add27c9d",
   "metadata": {},
   "outputs": [],
   "source": [
    "%matplotlib inline"
   ]
  },
  {
   "cell_type": "code",
   "execution_count": 2,
   "id": "a768debe",
   "metadata": {},
   "outputs": [],
   "source": [
    "# Getting libraries\n",
    "\n",
    "import math\n",
    "import numpy as np\n",
    "import seaborn as sns\n",
    "import matplotlib.pyplot as plt\n",
    "from numpy import linalg as la\n",
    "from matplotlib.patches import Ellipse\n",
    "from matplotlib.patches import Arrow"
   ]
  },
  {
   "cell_type": "code",
   "execution_count": 3,
   "id": "78475e3a",
   "metadata": {},
   "outputs": [],
   "source": [
    "# Parameters of the binormal distribution\n",
    "\n",
    "mu1 = 1.3\n",
    "mu2 = 0.5\n",
    "sigma1 = 1.7\n",
    "sigma2 = 2.3"
   ]
  },
  {
   "cell_type": "code",
   "execution_count": 4,
   "id": "5abaa133",
   "metadata": {},
   "outputs": [],
   "source": [
    "# Parameters of the 2D random variable\n",
    "\n",
    "mu = np.array([mu1, mu2])\n",
    "sigma = np.array([sigma1, sigma2])"
   ]
  },
  {
   "cell_type": "markdown",
   "id": "c1ccae72",
   "metadata": {},
   "source": [
    "Let be the vector:\n",
    "\n",
    "$$\\vec{v} = \\vec{x} - \\vec{\\mu}$$\n",
    "\n",
    "We can define the quadratic form:\n",
    "\n",
    "$$q(\\vec{v}) = \\vec{v}^{\\rm T}\\mathbb{A} \\vec{v}$$\n",
    "\n",
    "Since $\\mathbb{A}$ is a symmetric matrix, then it is diagonalizable with orthogonal eigenvectors:\n",
    "\n",
    "$$\\mathbb{A} \\vec{e}_1 = \\lambda_1 \\vec{e}_1$$\n",
    "$$\\mathbb{A} \\vec{e}_2 = \\lambda_2 \\vec{e}_2$$\n",
    "\n",
    "We can define the matrix:\n",
    "\n",
    "$$\\mathbb{C} = \\left[\\vec{e}_1\\;\\: \\vec{e}_2 \\right]$$\n",
    "\n",
    "where $\\mathbb{C}$ is the basis change matrix from the canonical basis to the basis of eigenvectors $\\vec{e}_1$ and $\\vec{e}_2$. The matrix $\\mathbb{A}$ can be written in terms of the matrix $\\mathbb{C}$:\n",
    "\n",
    "$$\\mathbb{A} = \\mathbb{C}^{\\rm T}\\mathbb{\\Lambda} \\mathbb{C}$$\n",
    "\n",
    "where $\\mathbb{\\Lambda}$ is the diagonal matrix whose elements are the eigenvalues of matrix $\\mathbb{A}$:\n",
    "\n",
    "$$\\mathbb{\\Lambda} = \n",
    "\\begin{bmatrix}\n",
    "\\lambda_1 & 0\\\\ \n",
    "0 & \\lambda_2\n",
    "\\end{bmatrix}\n",
    "$$\n",
    "\n",
    "The coordinates of the vector $\\vec{v}$ in the basis $\\left(\\vec{e}_1, \\vec{e}_2\\right)$ are:\n",
    "\n",
    "$$\\vec{w} = \\mathbb{C} \\vec{v}\\qquad \n",
    "\\vec{w} = \\begin{bmatrix}\n",
    "w_1\\\\ \n",
    "w_2\n",
    "\\end{bmatrix}$$\n",
    "\n",
    "From the quadratic form $q(\\vec{v})$ we obtain:\n",
    "\n",
    "$$q(\\vec{v}) = \\vec{w}^{\\rm T}\\mathbb{\\Lambda} \\vec{w}$$\n",
    "\n",
    "$$q(\\vec{v}) = \\lambda_1 w_1^2 + \\lambda_2 w_2^2$$\n",
    "\n",
    "A base change in 2D in general is a rotation of coordinate axes:\n",
    "\n",
    "$$\\mathbb{C} = \n",
    "\\begin{bmatrix}\n",
    "\\vec{e}_{1,x} & \\vec{e}_{2,x}\\\\ \n",
    "\\vec{e}_{1,y} & \\vec{e}_{2,y}\n",
    "\\end{bmatrix} =\n",
    "\\begin{bmatrix}\n",
    "\\cos{\\theta} & -\\sin{\\theta}\\\\ \n",
    "\\sin{\\theta} & \\cos{\\theta}\n",
    "\\end{bmatrix}\n",
    "$$\n",
    "\n",
    "where $\\theta$ is the angle of inclination with respect to the X axis of the canonical basis."
   ]
  },
  {
   "cell_type": "code",
   "execution_count": 5,
   "id": "fd9c9787",
   "metadata": {},
   "outputs": [],
   "source": [
    "class binormalDistribution:\n",
    "    \n",
    "    \n",
    "    def __init__(self,mu1, mu2, sigma1, sigma2, rho):\n",
    "        \n",
    "        self.mu = np.array([mu1, mu2])\n",
    "        self.sigma = np.array([sigma1, sigma2])        \n",
    "        self.rho = rho          \n",
    "        \n",
    "        return\n",
    "    \n",
    "    \n",
    "    def covarianceMatrix(self):\n",
    "        \n",
    "        cova11 = self.sigma[0]**2\n",
    "        cova22 = self.sigma[1]**2\n",
    "        cova12 = self.rho*self.sigma[0]*self.sigma[1]\n",
    "        self.cova = np.array([[cova11, cova12],\n",
    "                              [cova12, cova22]])\n",
    "        return \n",
    "    \n",
    "    \n",
    "    def eigens(self):\n",
    "        \n",
    "        binormalDistribution.covarianceMatrix(self)        \n",
    "        hesse = la.inv(self.cova)\n",
    "        eigenvalues, eigenvectors = la.eigh(hesse)\n",
    "        self.eigenvalue1, self.eigenvalue2 = eigenvalues[0], eigenvalues[1]\n",
    "        self.eigenvector1, self.eigenvector2 = eigenvectors[:,0], eigenvectors[:,1]\n",
    "    \n",
    "        return \n",
    "    \n",
    "    \n",
    "    def ellipseParameters(self):\n",
    "        \n",
    "        binormalDistribution.eigens(self)\n",
    "        self.axis1 = 2/np.sqrt(self.eigenvalue1)\n",
    "        self.axis2 = 2/np.sqrt(self.eigenvalue2)\n",
    "        eigenvector1_x, eigenvector1_y = self.eigenvector1[0], self.eigenvector1[1]    \n",
    "        self.inclination = np.arctan2(eigenvector1_y, eigenvector1_x)    \n",
    "        \n",
    "        return \n",
    "    \n",
    "    \n",
    "    def ellipseGraph(self):\n",
    "        \n",
    "        binormalDistribution.ellipseParameters(self)\n",
    "        sns.set_context('paper', font_scale=1.5)\n",
    "        fig, ax = plt.subplots(figsize=(7, 7))\n",
    "        ax.set_xlabel('$X_1$')\n",
    "        ax.set_ylabel('$X_2$')        \n",
    "        ellipse_1sigma = Ellipse(self.mu, width=self.axis1, height=self.axis2, angle=math.degrees(self.inclination), \n",
    "                                 fc='none', ec='tab:blue', label=r'$1\\sigma$')\n",
    "        ax.add_patch(ellipse_1sigma)\n",
    "        arrow1 = Arrow(self.mu[0], self.mu[1], self.eigenvector1[0]/np.sqrt(self.eigenvalue1), \n",
    "                       self.eigenvector1[1]/np.sqrt(self.eigenvalue1), width=0.1, color='tab:green', label='axis 1')\n",
    "        ax.add_patch(arrow1)\n",
    "        arrow2 = Arrow(self.mu[0], self.mu[1], self.eigenvector2[0]/np.sqrt(self.eigenvalue2), \n",
    "                       self.eigenvector2[1]/np.sqrt(self.eigenvalue2), width=0.1, color='tab:orange', label='axis 2')\n",
    "        ax.add_patch(arrow2)\n",
    "        plt.axis('scaled')\n",
    "        plt.legend()\n",
    "        plt.show()\n",
    "        \n",
    "        return"
   ]
  },
  {
   "cell_type": "markdown",
   "id": "9c04bf38",
   "metadata": {},
   "source": [
    "- $\\rho = -0.9$"
   ]
  },
  {
   "cell_type": "code",
   "execution_count": 6,
   "id": "76896653",
   "metadata": {},
   "outputs": [],
   "source": [
    "dist = binormalDistribution(mu1, mu2, sigma1, sigma2, rho=-0.9)"
   ]
  },
  {
   "cell_type": "code",
   "execution_count": 7,
   "id": "6b863cff",
   "metadata": {},
   "outputs": [
    {
     "data": {
      "image/png": "[encoded data removed]",
      "text/plain": [
       "<Figure size 504x504 with 1 Axes>"
      ]
     },
     "metadata": {
      "needs_background": "light"
     },
     "output_type": "display_data"
    }
   ],
   "source": [
    "dist.ellipseGraph()"
   ]
  },
  {
   "cell_type": "markdown",
   "id": "6b8b7ccd",
   "metadata": {},
   "source": [
    "- $\\rho = 0$"
   ]
  },
  {
   "cell_type": "code",
   "execution_count": 8,
   "id": "a7743ce6",
   "metadata": {},
   "outputs": [],
   "source": [
    "dist.rho = 0"
   ]
  },
  {
   "cell_type": "code",
   "execution_count": 9,
   "id": "46953dd0",
   "metadata": {},
   "outputs": [
    {
     "data": {
      "image/png": "[encoded data removed]",
      "text/plain": [
       "<Figure size 504x504 with 1 Axes>"
      ]
     },
     "metadata": {
      "needs_background": "light"
     },
     "output_type": "display_data"
    }
   ],
   "source": [
    "dist.ellipseGraph()"
   ]
  },
  {
   "cell_type": "markdown",
   "id": "608e86bb",
   "metadata": {},
   "source": [
    "- $\\rho = 0.5$"
   ]
  },
  {
   "cell_type": "code",
   "execution_count": 10,
   "id": "bb3a4746",
   "metadata": {},
   "outputs": [],
   "source": [
    "dist.rho = 0.5"
   ]
  },
  {
   "cell_type": "code",
   "execution_count": 11,
   "id": "c724f95b",
   "metadata": {},
   "outputs": [
    {
     "data": {
      "image/png": "[encoded data removed]",
      "text/plain": [
       "<Figure size 504x504 with 1 Axes>"
      ]
     },
     "metadata": {
      "needs_background": "light"
     },
     "output_type": "display_data"
    }
   ],
   "source": [
    "dist.ellipseGraph()"
   ]
  }
 ],
 "metadata": {
  "kernelspec": {
   "display_name": "Python 3 (ipykernel)",
   "language": "python",
   "name": "python3"
  },
  "language_info": {
   "codemirror_mode": {
    "name": "ipython",
    "version": 3
   },
   "file_extension": ".py",
   "mimetype": "text/x-python",
   "name": "python",
   "nbconvert_exporter": "python",
   "pygments_lexer": "ipython3",
   "version": "3.8.10"
  }
 },
 "nbformat": 4,
 "nbformat_minor": 5
}
