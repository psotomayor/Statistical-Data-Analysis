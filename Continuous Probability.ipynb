{
 "cells": [
  {
   "cell_type": "markdown",
   "id": "4bada2b2",
   "metadata": {},
   "source": [
    "# Continuous Probability"
   ]
  },
  {
   "cell_type": "markdown",
   "id": "de05ae51",
   "metadata": {},
   "source": [
    "---"
   ]
  },
  {
   "cell_type": "markdown",
   "id": "d75acd7b",
   "metadata": {},
   "source": [
    "Let $X$ be a continuous random variable (for example, the weight of a baby at birth)\n",
    "\n",
    "$P(X=k) = 0$, because it is a continuous variable.\n",
    "\n",
    "Therefore, the probability at a point value is always zero for a continuous variable.\n",
    "\n",
    "The probability mass function is replaced as it is conceived for discrete variables and the probability that a random variable is in a certain range is considered:\n",
    "\n",
    "$$P(x \\leq X \\leq x + {\\rm d}x) \\propto f(x) {\\rm d}x$$\n",
    "\n",
    "where:\n",
    "\n",
    "$f$: probability density function (PDF)\n",
    "\n",
    "$$f(x) = \\lim_{{\\rm d}x \\rightarrow 0} \\frac{P(x \\leq X \\leq x + {\\rm d}x)}{{\\rm d}x}$$\n",
    "\n",
    "The PDF should verify:\n",
    "\n",
    "- Positivity $f(x) \\geq 0\\; \\forall x$\n",
    "\n",
    "- Normalization $\\int_{-\\infty}^{+\\infty} {\\rm d}x f(x) = 1$"
   ]
  },
  {
   "cell_type": "markdown",
   "id": "62d12f6c",
   "metadata": {},
   "source": [
    "## PDF Moments"
   ]
  },
  {
   "cell_type": "markdown",
   "id": "38e1bf3b",
   "metadata": {},
   "source": [
    "1. Mean: $\\mu = E[x] = \\int_{-\\infty}^{+\\infty}{\\rm d}x\\,xf(x)$\n",
    "\n",
    "2. Variance: $\\sigma^{2}[x] = \\int_{-\\infty}^{+\\infty}{\\rm d}x\\,\\left(x - \\mu \\right)^2 f(x)$\n",
    "\n",
    "The mean of a function $g(x)$ is given by:\n",
    "\n",
    "$$E\\left[g(x) \\right] = \\int_{-\\infty}^{+\\infty}{\\rm d}x\\,g(x)f(x)$$\n",
    "\n",
    "In particular if $g(x)=\\left(x - \\mu \\right)^2$:\n",
    "\n",
    "$$E\\left[\\left(x - \\mu \\right)^2 \\right] = \\int_{-\\infty}^{+\\infty}{\\rm d}x\\,\\left(x - \\mu \\right)^2f(x)$$\n",
    "\n",
    "Then\n",
    "\n",
    "$$\\sigma^{2}[x] = E\\left[(x - \\mu)^2 \\right]$$\n",
    "\n",
    "Similar to a discrete random variable:\n",
    "\n",
    "1. $\\sigma^{2}[x] = E[x] - E^{2}[x] \\geq 0$\n",
    "\n",
    "2. $E[ax] = aE[x] = a\\mu,\\quad{\\rm a:\\,cte}$\n",
    "\n",
    "3. $\\sigma^{2}[ax] = a^2 \\sigma^{2}[x],\\quad{\\rm a:\\,cte}$\n",
    "\n",
    "Proof:\n",
    "\n",
    "1. $\\sigma^{2}[x] = \\int_{-\\infty}^{+\\infty}{\\rm d}x\\,\\left(x - \\mu \\right)^2 f(x) = \\int_{-\\infty}^{+\\infty}{\\rm d}x\\,x^2 f(x) - 2\\mu \\int_{-\\infty}^{+\\infty}{\\rm d}x\\,x f(x) + \\mu^{2} \\int_{-\\infty}^{+\\infty}{\\rm d}x\\, f(x)$\n",
    "\n",
    "$\\quad \\: \\, \\sigma^{2}[x] = E\\left[x^2 \\right] - 2\\mu^{2} + \\mu^{2} = E\\left[x^2 \\right] - \\mu^{2} = E\\left[x^2 \\right] - E^{2}[x]$\n",
    "\n",
    "2. $E[ax] = \\int_{-\\infty}^{+\\infty}{\\rm d}x\\,ax f(x) = a\\int_{-\\infty}^{+\\infty}{\\rm d}x\\,x f(x) = a\\mu = aE[x]$\n",
    "\n",
    "3. $\\sigma^{2}[ax] = \\int_{-\\infty}^{+\\infty}{\\rm d}x\\,\\left(ax - a\\mu \\right)^2 f(x) = a^2\\int_{-\\infty}^{+\\infty}{\\rm d}x\\,\\left(x - \\mu \\right)^2 f(x) = a^{2} \\sigma^{2}[x]$"
   ]
  },
  {
   "cell_type": "markdown",
   "id": "bd75fa6c",
   "metadata": {},
   "source": [
    "## Cumulative distribution function (CDF)"
   ]
  },
  {
   "cell_type": "markdown",
   "id": "86ac4019",
   "metadata": {},
   "source": [
    "For discrete variables:\n",
    "\n",
    "$$F(X = x) = P(X \\leq x)$$\n",
    "\n",
    "In the case of continuous variables:\n",
    "\n",
    "$$F(X = x) = \\int_{-\\infty}^{x}{\\rm d}u\\, f(u) $$"
   ]
  },
  {
   "cell_type": "markdown",
   "id": "05749551",
   "metadata": {},
   "source": [
    "<center><img src=\"image_PDF_and_CDF.png\" width=400 align=middle></center>"
   ]
  },
  {
   "cell_type": "markdown",
   "id": "ef391706",
   "metadata": {},
   "source": [
    "<center>Graph of the PDF (_top_) and the CDF (_bottom_) for a random variable. Credits: https://reliawiki.org/index.php/Basic_Statistical_Background<\\center>"
   ]
  },
  {
   "cell_type": "markdown",
   "id": "d8e36ca3",
   "metadata": {},
   "source": [
    "The CDF is always an increasing function. It is related to the PDF from:\n",
    "\n",
    "$$\\frac{{\\rm d}F}{{\\rm d}x} = f(x)$$\n",
    "\n",
    "The complementary cumulative distribution function is defined as:\n",
    "\n",
    "- $\\bar{F}(x) = P \\left(X > x \\right)$ for a discrete variable\n",
    "\n",
    "- $\\bar{F}(x) = \\int_{x}^{\\infty} {\\rm d}u f(u)$ for a continuous variable\n",
    "\n",
    "$$F(x) + \\bar{F}(x) = 1$$"
   ]
  },
  {
   "cell_type": "markdown",
   "id": "76068edd",
   "metadata": {},
   "source": [
    "## Quantile function"
   ]
  },
  {
   "cell_type": "markdown",
   "id": "005c47fc",
   "metadata": {},
   "source": [
    "Let $X$ be a continuous variable and its cumulative distribution function $F(x)$:"
   ]
  },
  {
   "cell_type": "markdown",
   "id": "8bbb9983",
   "metadata": {},
   "source": [
    "<center><img src=\"image_quantile.png\" width=400 align=middle></center>"
   ]
  },
  {
   "cell_type": "markdown",
   "id": "c8dd7f1b",
   "metadata": {},
   "source": [
    "<center>Credits: https://stats.stackexchange.com/questions/212813/help-me-understand-the-quantile-inverse-cdf-function<\\center>\n"
   ]
  },
  {
   "cell_type": "markdown",
   "id": "58cc8fe9",
   "metadata": {},
   "source": [
    "Let $F(x)$ be the cumulative distribution function evaluated at $x$. The quantile function is the inverse of $F(x)$. Thus, let $p$ be a certain probability, and $x$ such that $p = F(x)$, $x$ is the quantile of $p$:\n",
    "\n",
    "$$x = Q(p)$$\n",
    "\n",
    "Therefore, the quantile is a value of the variable $X$ and not a probability.\n",
    "\n",
    "$$x = Q(p) = F^{-1}(p)$$"
   ]
  },
  {
   "cell_type": "markdown",
   "id": "683cee96",
   "metadata": {},
   "source": [
    "<center><img src=\"image_quantile_2.png\" width=400 align=middle></center>"
   ]
  },
  {
   "cell_type": "markdown",
   "id": "b5829ac7",
   "metadata": {},
   "source": [
    "<center>Credits to: https://cnx.org/contents/HLT_qvJK@6.2:S2H-P2yG@7/The-Quantile-Function<\\center>"
   ]
  },
  {
   "cell_type": "markdown",
   "id": "6da61d12",
   "metadata": {},
   "source": [
    "The median of a distribution ($\\tilde x$) is the most commonly used quantile:\n",
    "\n",
    "$$\\tilde x = Q(p = 0.5)$$\n",
    "\n",
    "That is, it is the value $x = \\tilde x$ for which:\n",
    "\n",
    "$$F(\\tilde x) = 0.5$$\n",
    "\n",
    "$$P(X \\leq \\tilde x) = 0.5$$\n",
    "\n",
    "$$\\int_{-\\infty}^{\\tilde x}{\\rm d}x\\,f(x) = 0.5$$\n",
    "\n",
    "Some widely used quantiles are the quartiles: $q_{\\rm i} = Q(p = i/4)$\n",
    "\n",
    ".First quartile: $q_{1} = Q(p = 0.25)$\n",
    "\n",
    ".Second quartile: $q_{2} = Q(p = 0.5) = \\tilde x$\n",
    "\n",
    ".Third quartile: $q_{1} = Q(p = 0.75)$\n",
    "\n",
    "Others quantiles:\n",
    "\n",
    ".Decile: $d_{\\rm i} = Q(p = i/10)$\n",
    "\n",
    ".Percentile: $d_{\\rm i} = Q(p = i/100)$"
   ]
  },
  {
   "cell_type": "markdown",
   "id": "714097ed",
   "metadata": {},
   "source": [
    "### Complementary quantile function"
   ]
  },
  {
   "cell_type": "markdown",
   "id": "3a5bdf79",
   "metadata": {},
   "source": [
    "The complementary quantile function is the inverse of the complementary cumulative distribution function:\n",
    "    \n",
    "\n",
    "$$\\bar Q(p) = \\bar F^{\\;-1}(p)$$\n",
    "\n",
    "where:\n",
    "\n",
    "$\\bar Q(p) = Q(1 - p)$\n",
    "\n",
    "If:\n",
    "\n",
    "$x = \\bar Q(p) \\rightarrow P(X>x) = p$\n",
    "\n",
    "$x = Q(1 - p) \\rightarrow P(X \\leq x) = 1 - p$, that is, $P(X > x) = p$"
   ]
  },
  {
   "cell_type": "markdown",
   "id": "4af38af8",
   "metadata": {},
   "source": [
    "<center><img src=\"image_CQF.png\" width=600 align=middle></center>"
   ]
  },
  {
   "cell_type": "markdown",
   "id": "e9c37180",
   "metadata": {},
   "source": [
    "<center>Credits to: https://rstudio-pubs-static.s3.amazonaws.com/254869_7b5e117f03bc457d8aa24393da86366b.html<\\center>"
   ]
  }
 ],
 "metadata": {
  "kernelspec": {
   "display_name": "Python 3 (ipykernel)",
   "language": "python",
   "name": "python3"
  },
  "language_info": {
   "codemirror_mode": {
    "name": "ipython",
    "version": 3
   },
   "file_extension": ".py",
   "mimetype": "text/x-python",
   "name": "python",
   "nbconvert_exporter": "python",
   "pygments_lexer": "ipython3",
   "version": "3.8.13"
  }
 },
 "nbformat": 4,
 "nbformat_minor": 5
}
